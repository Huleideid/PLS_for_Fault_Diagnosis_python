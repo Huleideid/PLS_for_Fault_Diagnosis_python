{
 "cells": [
  {
   "cell_type": "code",
   "execution_count": 20,
   "metadata": {},
   "outputs": [],
   "source": [
    "# 导入相关库\n",
    "import numpy as np\n",
    "from scipy.io import loadmat\n",
    "import scipy.stats\n",
    "import matplotlib.pyplot as plt\n",
    "\n",
    "# 归一化数据\n",
    "def autos(X):\n",
    "    m = X.shape[0]\n",
    "    n = X.shape[1]\n",
    "    X_m = np.zeros((m, n))\n",
    "    mu = np.mean(X, axis=0)\n",
    "    sigma = np.std(X, axis=0, ddof=1)\n",
    "    for i in range(n):\n",
    "        a = np.ones(m) * mu[i]\n",
    "        X_m[:, i] = (X[:, i]-a) / sigma[i]\n",
    "    return X_m, mu, sigma\n",
    "\n",
    "def autos_test(data,m_train,v_train):\n",
    "    m = data.shape[0]\n",
    "    n = data.shape[1]\n",
    "    data_new = np.zeros((m, n))\n",
    "    for i in range(n):\n",
    "        a = np.ones(m) * m_train[i]\n",
    "        data_new[:, i] = (data[:, i] - a) / v_train[i]\n",
    "    return data_new\n",
    "\n",
    "def pls_nipals(X, Y, A, max_iter=2000, epsilon=1e-10):\n",
    "    olv=A\n",
    "    rankx=np.linalg.matrix_rank(X)\n",
    "    if olv>=rankx:\n",
    "        A=rankx\n",
    "        \n",
    "    ssqx=np.sum(X**2)\n",
    "    ssqy=np.sum(Y**2)\n",
    "    ssq=np.zeros((A,2))\n",
    "    ssqdiff=np.zeros((A,2))\n",
    "    t_old = 0\n",
    "    iters = 0 \n",
    "    u = Y[:,0].reshape(Y.shape[0],1)\n",
    "    while iters < max_iter:\n",
    "        W = X.T @ u / (np.linalg.norm(X.T @ u))\n",
    "        W = W/np.linalg.norm(W)\n",
    "        T = X @ W\n",
    "        Q = Y.T @ T / (T.T @ T)\n",
    "        Q=Q/np.linalg.norm(Q)\n",
    "        u = Y @ Q\n",
    "        t_diff = T - t_old\n",
    "        t_old = T\n",
    "        if np.linalg.norm(t_diff) < epsilon:\n",
    "            P = X.T @ T / (T.T @ T)\n",
    "            X = X - T @ (P.T)\n",
    "            B=u.T@T/(T.T@T)\n",
    "            Y=Y-B[0,0]*T@Q.T\n",
    "            break\n",
    "        else:\n",
    "            iters += 1\n",
    "            \n",
    "    ssq[0,0] = np.sum(X**2)*100/ssqx;\n",
    "    ssq[0,1] = np.sum(Y**2)*100/ssqy;\n",
    "    \n",
    "    for i in range(1,A):\n",
    "        t_old = 0\n",
    "        iters = 0\n",
    "        u = Y[:,0].reshape(Y.shape[0],1)\n",
    "        while iters < max_iter:\n",
    "            w = X.T @ u / (np.linalg.norm(X.T @ u))\n",
    "            w = w/np.linalg.norm(w)\n",
    "            t = X @ w\n",
    "            q = Y.T @ t / (t.T @ t)\n",
    "            q=q/np.linalg.norm(q)\n",
    "            u = Y @ q\n",
    "            t_diff = t - t_old\n",
    "            t_old = t\n",
    "            if np.linalg.norm(t_diff) < epsilon:\n",
    "                p = X.T @ t / (t.T @ t)\n",
    "                p=p/np.linalg.norm(p)\n",
    "                X = X - t @ (p.T)\n",
    "                b=u.T@t/(t.T@t)\n",
    "                Y=Y-b[0,0]*t@q.T\n",
    "                t_old = t\n",
    "                T = np.hstack((T,t))               \n",
    "                W = np.hstack((W,w))\n",
    "                Q = np.hstack((Q,q))\n",
    "                P = np.hstack((P,p))\n",
    "                B = np.hstack((B,b))\n",
    "                break\n",
    "            else:\n",
    "                iters += 1    \n",
    "        ssq[i,0] = np.sum(X**2)*100/ssqx;\n",
    "        ssq[i,1] = np.sum(Y**2)*100/ssqy;\n",
    "\n",
    "    ssqdiff[0,0] = 100 - ssq[0,0];\n",
    "    ssqdiff[0,1] = 100 - ssq[0,1];\n",
    "    ssqdiff[1:,:]=ssq[0:-1,:]-ssq[1:,:]\n",
    "    R = W @ np.linalg.inv((P.T @ W))\n",
    "    return T,W,Q,P,R,B,ssqdiff,ssq\n"
   ]
  },
  {
   "cell_type": "markdown",
   "metadata": {},
   "source": [
    "###  读取数据及数据预处理\n",
    "以TE过程的数据为例"
   ]
  },
  {
   "cell_type": "code",
   "execution_count": 22,
   "metadata": {},
   "outputs": [],
   "source": [
    "path_train = 'E:\\myFile\\Tencent Files\\故障诊断代码及接口\\d00.mat'\n",
    "path_test= 'E:\\myFile\\Tencent Files\\故障诊断代码及接口\\d01te.mat'\n",
    "data1 = loadmat(path_train)['d00']\n",
    "X1 = data1[:,:22]\n",
    "X2 = data1[:,-11:]\n",
    "X_Train= np.hstack((X1,X2))\n",
    "Y_Train = data1[:,34:35]\n",
    "\n",
    "data2 = loadmat(path_test)['d01te']\n",
    "X11 = data2[:,:22]\n",
    "X22 = data2[:,-11:]\n",
    "X_test = np.hstack((X11,X22))\n",
    "# Y_test  = data2[:,34:36]\n",
    "Y_test  = data2[:,34:35]\n",
    "\n",
    "# 数据标准化\n",
    "##训练数据标准化\n",
    "X_train,X_mean,X_s = autos(X_Train)\n",
    "Y_train,Y_mean,Y_s = autos(Y_Train)\n",
    "##测试数据标准化\n",
    "X_test = autos_test(X_test,X_mean,X_s)\n",
    "Y_test = autos_test(Y_test,Y_mean,Y_s)"
   ]
  },
  {
   "cell_type": "markdown",
   "metadata": {},
   "source": [
    "### pls建模"
   ]
  },
  {
   "cell_type": "code",
   "execution_count": 23,
   "metadata": {},
   "outputs": [],
   "source": [
    "A = 6#pls主元数\n",
    "T, W, Q, P, R, B, ssqdiff, ssq = pls_nipals(X_train, Y_train, A)"
   ]
  },
  {
   "cell_type": "code",
   "execution_count": 24,
   "metadata": {},
   "outputs": [
    {
     "data": {
      "text/plain": [
       "array([[ 0.0066054 ,  0.0239479 ,  0.09915513,  0.19686223, -0.05804812,\n",
       "        -0.04546579],\n",
       "       [ 0.0029566 ,  0.13784901, -0.0359289 ,  0.0627998 ,  0.21558676,\n",
       "        -0.10231571],\n",
       "       [-0.11062335, -0.06644532,  0.06209414,  0.17109401,  0.11282844,\n",
       "         0.01196746],\n",
       "       [-0.0302707 ,  0.05705448,  0.37558713,  0.38915506,  0.35091424,\n",
       "        -0.09809502],\n",
       "       [-0.01025069,  0.01705137, -0.03371747, -0.06523191,  0.02115081,\n",
       "         0.10931211],\n",
       "       [-0.12985395, -0.50998158, -0.4577494 , -0.02855072,  0.08401848,\n",
       "         0.06150715],\n",
       "       [-0.424478  , -0.13380956, -0.12036163, -0.29135874, -0.29253259,\n",
       "        -0.25779472],\n",
       "       [-0.1151989 , -0.27842192, -0.16813501,  0.05696534,  0.10697324,\n",
       "         0.10105778],\n",
       "       [-0.03310534,  0.02724157, -0.41114618, -0.42240855, -0.20233514,\n",
       "        -0.20645556],\n",
       "       [ 0.20550283,  0.00750479, -0.10468828, -0.36083903, -0.16749936,\n",
       "        -0.08956421],\n",
       "       [ 0.20409901, -0.05734961, -0.20326096, -0.10368428, -0.04464728,\n",
       "        -0.16733686],\n",
       "       [ 0.04058959,  0.08303148, -0.10136506,  0.02408164,  0.02736954,\n",
       "         0.03166575],\n",
       "       [-0.41773996, -0.1117952 , -0.07798908, -0.24757272, -0.21166358,\n",
       "        -0.16888674],\n",
       "       [-0.05215891, -0.30579145, -0.19710728, -0.0561292 , -0.09469271,\n",
       "        -0.03125863],\n",
       "       [ 0.02539281, -0.06795064,  0.12381388, -0.0167514 , -0.06268262,\n",
       "         0.06030827],\n",
       "       [-0.39484716, -0.09207093, -0.09064051, -0.0458789 ,  0.08705179,\n",
       "         0.26608796],\n",
       "       [-0.00762413,  0.00733707,  0.04013891, -0.11658038, -0.13424111,\n",
       "        -0.05711861],\n",
       "       [ 0.22636271, -0.10893444,  0.40446753,  0.5123644 ,  1.03594907,\n",
       "         1.18976382],\n",
       "       [ 0.12286286, -0.33829614, -0.08353448, -0.44036729, -0.50010521,\n",
       "        -0.7751166 ],\n",
       "       [-0.24722298,  0.02242334,  0.41566902,  0.20236827,  0.47876396,\n",
       "         0.41773383],\n",
       "       [ 0.10195612, -0.05905126,  0.02371003,  0.01368024, -0.08742432,\n",
       "         0.30571623],\n",
       "       [ 0.0447151 ,  0.01872218,  0.01257843,  0.04660004,  0.33811458,\n",
       "         0.27274022],\n",
       "       [ 0.00997424,  0.2103603 ,  0.07096026,  0.15640715,  0.30014931,\n",
       "        -0.07845193],\n",
       "       [-0.19888569, -0.34775396, -0.2233519 ,  0.11319687,  0.25091769,\n",
       "         0.16833954],\n",
       "       [ 0.00496883,  0.02212592,  0.10244252,  0.20236977, -0.04928934,\n",
       "        -0.03818871],\n",
       "       [ 0.07892725,  0.34484574,  0.267077  ,  0.04229463,  0.10421531,\n",
       "         0.12849536],\n",
       "       [-0.29055623, -0.02145961,  0.181368  , -0.15666915, -0.05168772,\n",
       "        -0.07415054],\n",
       "       [ 0.24596369,  0.06604812, -0.03267148, -0.18087788,  0.10544605,\n",
       "         0.26915815],\n",
       "       [ 0.04059894,  0.08307991, -0.10125003,  0.0242674 ,  0.02768366,\n",
       "         0.03208112],\n",
       "       [ 0.02538238, -0.06799861,  0.12372941, -0.01686789, -0.06285219,\n",
       "         0.06009653],\n",
       "       [ 0.14718435, -0.30715032, -0.03766401, -0.38267297, -0.44469285,\n",
       "        -0.73795022],\n",
       "       [-0.03558802,  0.14286662, -0.0660574 ,  0.07486475,  0.41759985,\n",
       "         0.20424558],\n",
       "       [ 0.00264386, -0.03175011, -0.10196216,  0.00308916, -0.06164983,\n",
       "        -0.19341761]])"
      ]
     },
     "execution_count": 24,
     "metadata": {},
     "output_type": "execute_result"
    }
   ],
   "source": [
    "# T\n",
    "# T2_lim\n",
    "R"
   ]
  },
  {
   "cell_type": "markdown",
   "metadata": {},
   "source": [
    "### 确定控制限"
   ]
  },
  {
   "cell_type": "code",
   "execution_count": 6,
   "metadata": {},
   "outputs": [],
   "source": [
    "alpha=0.95;# 显著性水平\n",
    "X_hat = X_train-X_train@R@P.T\n",
    "n = X_train.shape[0]\n",
    "T2_lim = A*(n** 2-1)/(n*(n-A)) * scipy.stats.f.ppf(alpha, A, n-A) # T2控制限 \n",
    "\n",
    "Qx_normal=[]\n",
    "for i in range(X_hat.shape[0]):\n",
    "    Qx_normal.append(X_hat[i,:].T @ X_hat[i,:])\n",
    "S1=np.var(Qx_normal); \n",
    "mio1=np.mean(Qx_normal);\n",
    "V1=2*mio1**2/S1; \n",
    "Q_lim=S1/(2*mio1)*scipy.stats.chi2.ppf(alpha,V1);"
   ]
  },
  {
   "cell_type": "markdown",
   "metadata": {},
   "source": [
    "### 计算测试数据的监控结果"
   ]
  },
  {
   "cell_type": "code",
   "execution_count": 17,
   "metadata": {},
   "outputs": [],
   "source": [
    "T_value = []\n",
    "Q_value = []\n",
    "for i in range(X_test.shape[0]):\n",
    "    t = R.T @ X_test[i,:]\n",
    "    xr_old = X_test[i,:].T-P@R.T@X_test[i,:].T\n",
    "    T_value.append(t.T @ np.linalg.inv((T.T @ T) / (X_train.shape[0] - 1)) @ t)\n",
    "#     T_value.append(t.T @ t)\n",
    "    Q_value.append(xr_old.T@xr_old)"
   ]
  },
  {
   "cell_type": "code",
   "execution_count": 25,
   "metadata": {},
   "outputs": [
    {
     "data": {
      "text/plain": [
       "array([-3.10920773e-02, -1.97860947e-01,  2.70541214e-01,  6.82150723e-01,\n",
       "       -9.23906709e-01, -6.68428769e-01, -1.70498649e-01, -7.41611651e-01,\n",
       "        1.10215961e+00, -4.98164839e-02, -2.15937157e-01, -1.72392861e+00,\n",
       "       -3.02536349e-01, -1.37115422e+00,  1.04267320e+00, -2.61287867e-04,\n",
       "        1.23914031e-01,  9.72598449e-03, -1.25439566e-02,  1.14882532e-01,\n",
       "       -4.89137531e-01, -9.56739073e-01,  2.50598909e-01, -3.63969433e-01,\n",
       "       -1.81465040e-02,  4.35857385e-01, -3.65623197e-01, -2.65641496e-03,\n",
       "       -1.72404934e+00,  1.04281205e+00, -1.01458237e-03,  1.41992067e+00,\n",
       "       -1.12147713e-01])"
      ]
     },
     "execution_count": 25,
     "metadata": {},
     "output_type": "execute_result"
    }
   ],
   "source": [
    "X_test[0]"
   ]
  },
  {
   "cell_type": "code",
   "execution_count": 10,
   "metadata": {},
   "outputs": [
    {
     "data": {
      "text/plain": [
       "[2.8031489658085103]"
      ]
     },
     "execution_count": 10,
     "metadata": {},
     "output_type": "execute_result"
    }
   ],
   "source": [
    "T_value"
   ]
  },
  {
   "cell_type": "code",
   "execution_count": 11,
   "metadata": {},
   "outputs": [
    {
     "data": {
      "text/plain": [
       "499"
      ]
     },
     "execution_count": 11,
     "metadata": {},
     "output_type": "execute_result"
    }
   ],
   "source": [
    "(X_train.shape[0] - 1)"
   ]
  },
  {
   "cell_type": "markdown",
   "metadata": {},
   "source": [
    "### 对测试数据的监控结果可视化"
   ]
  },
  {
   "cell_type": "code",
   "execution_count": 18,
   "metadata": {},
   "outputs": [
    {
     "data": {
      "image/png": "[encoded data removed]",
      "text/plain": [
       "<matplotlib.figure.Figure at 0x1e1f7e3d828>"
      ]
     },
     "metadata": {},
     "output_type": "display_data"
    }
   ],
   "source": [
    "plt.figure()\n",
    "plt.subplot(2,1,1)\n",
    "plt.plot(T_value)\n",
    "plt.xlabel('Sample number')\n",
    "plt.ylabel('$T^2$')\n",
    "plt.axhline(y=T2_lim,ls=\"--\",color=\"r\")\n",
    "plt.subplot(2,1,2)\n",
    "plt.plot(Q_value)\n",
    "plt.xlabel('Sample number')\n",
    "plt.ylabel('$Q$')\n",
    "plt.axhline(y=Q_lim,ls=\"--\",color=\"r\")\n",
    "plt.show()"
   ]
  },
  {
   "cell_type": "markdown",
   "metadata": {},
   "source": [
    "### pls预测结果可视化"
   ]
  },
  {
   "cell_type": "code",
   "execution_count": 13,
   "metadata": {},
   "outputs": [
    {
     "data": {
      "image/png": "[encoded data removed]",
      "text/plain": [
       "<matplotlib.figure.Figure at 0x1e1f6d6fac8>"
      ]
     },
     "metadata": {},
     "output_type": "display_data"
    }
   ],
   "source": [
    "T_pred = X_train @ R;\n",
    "Y_pred = T_pred @ np.diag(B[0])@ Q.T;\n",
    "\n",
    "plt.figure()\n",
    "plt.plot(Y_pred,color=\"r\")\n",
    "plt.plot(Y_train,color=\"b\")\n",
    "plt.show()"
   ]
  },
  {
   "cell_type": "code",
   "execution_count": 14,
   "metadata": {},
   "outputs": [
    {
     "data": {
      "text/plain": [
       "[2.8031489658085103]"
      ]
     },
     "execution_count": 14,
     "metadata": {},
     "output_type": "execute_result"
    }
   ],
   "source": [
    "T_value"
   ]
  },
  {
   "cell_type": "code",
   "execution_count": null,
   "metadata": {},
   "outputs": [],
   "source": []
  }
 ],
 "metadata": {
  "kernelspec": {
   "display_name": "Python 3",
   "language": "python",
   "name": "python3"
  }
 },
 "nbformat": 4,
 "nbformat_minor": 2
}
